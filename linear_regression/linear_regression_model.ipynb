{
 "cells": [
  {
   "cell_type": "markdown",
   "id": "a57b9835",
   "metadata": {},
   "source": [
    "# Dataframe manipulation"
   ]
  },
  {
   "cell_type": "code",
   "execution_count": 1,
   "id": "e391e969",
   "metadata": {},
   "outputs": [],
   "source": [
    "import pandas as pd\n",
    "import numpy as np "
   ]
  },
  {
   "cell_type": "markdown",
   "id": "45eef249",
   "metadata": {},
   "source": [
    "#### setting the dataframe with pandas"
   ]
  },
  {
   "cell_type": "code",
   "execution_count": 2,
   "id": "828e740e",
   "metadata": {},
   "outputs": [],
   "source": [
    "df = pd.read_csv ('SeoulBikeData.csv') "
   ]
  },
  {
   "cell_type": "markdown",
   "id": "500b70b7",
   "metadata": {},
   "source": [
    "#### changing the features names"
   ]
  },
  {
   "cell_type": "code",
   "execution_count": 3,
   "id": "b4b27192",
   "metadata": {},
   "outputs": [
    {
     "data": {
      "text/html": [
       "<div>\n",
       "<style scoped>\n",
       "    .dataframe tbody tr th:only-of-type {\n",
       "        vertical-align: middle;\n",
       "    }\n",
       "\n",
       "    .dataframe tbody tr th {\n",
       "        vertical-align: top;\n",
       "    }\n",
       "\n",
       "    .dataframe thead th {\n",
       "        text-align: right;\n",
       "    }\n",
       "</style>\n",
       "<table border=\"1\" class=\"dataframe\">\n",
       "  <thead>\n",
       "    <tr style=\"text-align: right;\">\n",
       "      <th></th>\n",
       "      <th>date</th>\n",
       "      <th>rented_bike_count</th>\n",
       "      <th>hour</th>\n",
       "      <th>temperature</th>\n",
       "      <th>humidity</th>\n",
       "      <th>wind_speed</th>\n",
       "      <th>visibility</th>\n",
       "      <th>dew_point</th>\n",
       "      <th>solar_radiation</th>\n",
       "      <th>rainfall</th>\n",
       "      <th>snowfall</th>\n",
       "      <th>seasons</th>\n",
       "      <th>holiday</th>\n",
       "      <th>functioning_day</th>\n",
       "    </tr>\n",
       "  </thead>\n",
       "  <tbody>\n",
       "    <tr>\n",
       "      <th>0</th>\n",
       "      <td>01/12/2017</td>\n",
       "      <td>254</td>\n",
       "      <td>0</td>\n",
       "      <td>-5.2</td>\n",
       "      <td>37</td>\n",
       "      <td>2.2</td>\n",
       "      <td>2000</td>\n",
       "      <td>-17.6</td>\n",
       "      <td>0.0</td>\n",
       "      <td>0.0</td>\n",
       "      <td>0.0</td>\n",
       "      <td>Winter</td>\n",
       "      <td>No Holiday</td>\n",
       "      <td>Yes</td>\n",
       "    </tr>\n",
       "    <tr>\n",
       "      <th>1</th>\n",
       "      <td>01/12/2017</td>\n",
       "      <td>204</td>\n",
       "      <td>1</td>\n",
       "      <td>-5.5</td>\n",
       "      <td>38</td>\n",
       "      <td>0.8</td>\n",
       "      <td>2000</td>\n",
       "      <td>-17.6</td>\n",
       "      <td>0.0</td>\n",
       "      <td>0.0</td>\n",
       "      <td>0.0</td>\n",
       "      <td>Winter</td>\n",
       "      <td>No Holiday</td>\n",
       "      <td>Yes</td>\n",
       "    </tr>\n",
       "    <tr>\n",
       "      <th>2</th>\n",
       "      <td>01/12/2017</td>\n",
       "      <td>173</td>\n",
       "      <td>2</td>\n",
       "      <td>-6.0</td>\n",
       "      <td>39</td>\n",
       "      <td>1.0</td>\n",
       "      <td>2000</td>\n",
       "      <td>-17.7</td>\n",
       "      <td>0.0</td>\n",
       "      <td>0.0</td>\n",
       "      <td>0.0</td>\n",
       "      <td>Winter</td>\n",
       "      <td>No Holiday</td>\n",
       "      <td>Yes</td>\n",
       "    </tr>\n",
       "    <tr>\n",
       "      <th>3</th>\n",
       "      <td>01/12/2017</td>\n",
       "      <td>107</td>\n",
       "      <td>3</td>\n",
       "      <td>-6.2</td>\n",
       "      <td>40</td>\n",
       "      <td>0.9</td>\n",
       "      <td>2000</td>\n",
       "      <td>-17.6</td>\n",
       "      <td>0.0</td>\n",
       "      <td>0.0</td>\n",
       "      <td>0.0</td>\n",
       "      <td>Winter</td>\n",
       "      <td>No Holiday</td>\n",
       "      <td>Yes</td>\n",
       "    </tr>\n",
       "    <tr>\n",
       "      <th>4</th>\n",
       "      <td>01/12/2017</td>\n",
       "      <td>78</td>\n",
       "      <td>4</td>\n",
       "      <td>-6.0</td>\n",
       "      <td>36</td>\n",
       "      <td>2.3</td>\n",
       "      <td>2000</td>\n",
       "      <td>-18.6</td>\n",
       "      <td>0.0</td>\n",
       "      <td>0.0</td>\n",
       "      <td>0.0</td>\n",
       "      <td>Winter</td>\n",
       "      <td>No Holiday</td>\n",
       "      <td>Yes</td>\n",
       "    </tr>\n",
       "  </tbody>\n",
       "</table>\n",
       "</div>"
      ],
      "text/plain": [
       "         date  rented_bike_count  hour  temperature  humidity  wind_speed  \\\n",
       "0  01/12/2017                254     0         -5.2        37         2.2   \n",
       "1  01/12/2017                204     1         -5.5        38         0.8   \n",
       "2  01/12/2017                173     2         -6.0        39         1.0   \n",
       "3  01/12/2017                107     3         -6.2        40         0.9   \n",
       "4  01/12/2017                 78     4         -6.0        36         2.3   \n",
       "\n",
       "   visibility  dew_point  solar_radiation  rainfall  snowfall seasons  \\\n",
       "0        2000      -17.6              0.0       0.0       0.0  Winter   \n",
       "1        2000      -17.6              0.0       0.0       0.0  Winter   \n",
       "2        2000      -17.7              0.0       0.0       0.0  Winter   \n",
       "3        2000      -17.6              0.0       0.0       0.0  Winter   \n",
       "4        2000      -18.6              0.0       0.0       0.0  Winter   \n",
       "\n",
       "      holiday functioning_day  \n",
       "0  No Holiday             Yes  \n",
       "1  No Holiday             Yes  \n",
       "2  No Holiday             Yes  \n",
       "3  No Holiday             Yes  \n",
       "4  No Holiday             Yes  "
      ]
     },
     "execution_count": 3,
     "metadata": {},
     "output_type": "execute_result"
    }
   ],
   "source": [
    "col_names = ['date' , 'rented_bike_count', 'hour' , 'temperature', 'humidity', 'wind_speed', 'visibility', 'dew_point', 'solar_radiation','rainfall','snowfall', 'seasons','holiday','functioning_day']\n",
    "df.columns = col_names\n",
    "df.head()"
   ]
  },
  {
   "cell_type": "markdown",
   "id": "1669c596",
   "metadata": {},
   "source": [
    "### getting rid of unwanted features\n",
    " axis = 1 means \"drop from the columns\""
   ]
  },
  {
   "cell_type": "code",
   "execution_count": 4,
   "id": "c880e3ba",
   "metadata": {},
   "outputs": [],
   "source": [
    "df = df.drop([\"date\",\"holiday\"],axis=1)"
   ]
  },
  {
   "cell_type": "markdown",
   "id": "41f8c4cc",
   "metadata": {},
   "source": [
    "#### only getting the wanted values of some features :"
   ]
  },
  {
   "cell_type": "code",
   "execution_count": 5,
   "id": "fe3a4110",
   "metadata": {},
   "outputs": [],
   "source": [
    "df = df[df[\"hour\"].isin([8,12,14])]\n",
    "#alternative : df = df[(df[\"hour\"] == 12) | (df[\"hour\"] == 11)]\n"
   ]
  },
  {
   "cell_type": "markdown",
   "id": "6666e058",
   "metadata": {},
   "source": [
    "### Spliting the df into 3 dataframes :"
   ]
  },
  {
   "cell_type": "code",
   "execution_count": 6,
   "id": "d2392274",
   "metadata": {},
   "outputs": [
    {
     "name": "stderr",
     "output_type": "stream",
     "text": [
      "/home/mirija/.local/lib/python3.12/site-packages/numpy/_core/fromnumeric.py:57: FutureWarning: 'DataFrame.swapaxes' is deprecated and will be removed in a future version. Please use 'DataFrame.transpose' instead.\n",
      "  return bound(*args, **kwds)\n"
     ]
    }
   ],
   "source": [
    "#from sklearn.model_selection import train_test_split\n",
    "train , valid , test = np.split (df.sample(frac=1) , [int(.6*len(df)) , int (.8*len(df))])\n",
    "# may return some warnings about future versions of numpy"
   ]
  },
  {
   "cell_type": "markdown",
   "id": "9805e60e",
   "metadata": {},
   "source": [
    "## Getting X and y from the dataframe"
   ]
  },
  {
   "cell_type": "code",
   "execution_count": 7,
   "id": "a5c0bf2b",
   "metadata": {},
   "outputs": [],
   "source": [
    "def get_xy (dataframe , y_label , features = None):\n",
    "    \n",
    "    if features is None :\n",
    "    # we take all the features except for the label\n",
    "        X = df [[c for c in df.columns if c != y_label]].values\n",
    "    \n",
    "    else :\n",
    "        \n",
    "        if len (features) == 1:\n",
    "    # just take the given feature and reshape it to a n*1 matrix\n",
    "            X = df[features[0]].values.reshape (-1,1) #\"-1\" means the length of the \"vector\"\n",
    "        \n",
    "        else :\n",
    "        \n",
    "            X = df[features].values\n",
    "    \n",
    "    y = df[y_label].values.reshape(-1,1)\n",
    "    \n",
    "    data = np.hstack ((X,y))\n",
    "    \n",
    "    return data, X, y"
   ]
  },
  {
   "cell_type": "markdown",
   "id": "450fbf9c",
   "metadata": {},
   "source": [
    "### Getting X and y for train,valid,test"
   ]
  },
  {
   "cell_type": "code",
   "execution_count": 8,
   "id": "b5019c21",
   "metadata": {},
   "outputs": [],
   "source": [
    "# this is an example for just one feature \n",
    "data_train , X_train, y_train = get_xy (train , \"rented_bike_count\" , features=[\"temperature\"])\n",
    "data_valid , X_valid, y_valid = get_xy (valid , \"rented_bike_count\",features=[\"temperature\"])\n",
    "data_test , X_test, y_test = get_xy (test , \"rented_bike_count\",features=[\"temperature\"])"
   ]
  },
  {
   "cell_type": "markdown",
   "id": "91a54304",
   "metadata": {},
   "source": [
    "### Visualisation of the datapoints (plot)\n",
    "note that this example is not completely linear"
   ]
  },
  {
   "cell_type": "code",
   "execution_count": 9,
   "id": "4d690d9a",
   "metadata": {},
   "outputs": [
    {
     "data": {
      "image/png": "[encoded data removed]",
      "text/plain": [
       "<Figure size 640x480 with 1 Axes>"
      ]
     },
     "metadata": {},
     "output_type": "display_data"
    }
   ],
   "source": [
    "import matplotlib.pyplot as plt\n",
    "plt.scatter (X_train,y_train) # plot as POINTS\n",
    "plt.xlabel (\"temperature\")\n",
    "plt.ylabel(\"numbers of bikes\")\n",
    "plt.show()"
   ]
  },
  {
   "cell_type": "markdown",
   "id": "fcc99190",
   "metadata": {},
   "source": [
    "# Linear Regression Model implementation\n",
    "### We will now try to find the line of \"best fit\" to predict y\n",
    "check the pdf file for mathematical steps"
   ]
  },
  {
   "cell_type": "code",
   "execution_count": 10,
   "id": "fd193861",
   "metadata": {},
   "outputs": [],
   "source": [
    "def lin_reg_model (X , y , learning_rate , iteration):\n",
    "    \"\"\"\n",
    "    This function returns the parameter vector theta using gradient descent.\n",
    "    \n",
    "    Parameters:\n",
    "    X : numpy array, feature matrix (m x n)\n",
    "    y : numpy array, target vector (m,)\n",
    "    learning_rate : float, step size for gradient descent\n",
    "    iteration : int, number of iterations for gradient descent\n",
    "\n",
    "    Returns:\n",
    "    theta : numpy array, optimized parameter vector\n",
    "    \n",
    "    \"\"\"\n",
    "    \n",
    "    n = y.size\n",
    "    theta = np.zeros((X.shape[1] + 1 ,1)) #initialize theta to be the zero vector\n",
    "    one_vector = np.ones((X.shape[0],1))\n",
    "    X = np.hstack((one_vector,X)) # horizontally stack 1s and X\n",
    "    y = y.reshape (-1,1)\n",
    "\n",
    "\n",
    "    for i in range (iteration):\n",
    "        y_pred = np.dot (X ,theta) #matrix multiplication\n",
    "        d_cost = (1/n)*np.dot(X.T , y_pred - y)\n",
    "        theta = theta - learning_rate*d_cost\n",
    "    return theta\n"
   ]
  },
  {
   "cell_type": "markdown",
   "id": "9f7dbfbe",
   "metadata": {},
   "source": [
    "### predict the output for given features x_1,x_2,...,x_n"
   ]
  },
  {
   "cell_type": "code",
   "execution_count": 11,
   "id": "b0d3752d",
   "metadata": {},
   "outputs": [],
   "source": [
    "def predict_y (x : list, theta):\n",
    "    x = np.hstack(([1],x))\n",
    "    y_pred = np.dot(x,theta)\n",
    "    return y_pred"
   ]
  },
  {
   "cell_type": "markdown",
   "id": "8c2a0855",
   "metadata": {},
   "source": [
    "# Test for the example"
   ]
  },
  {
   "cell_type": "markdown",
   "id": "69ac50f0",
   "metadata": {},
   "source": [
    "## find theta for the training datapoints: "
   ]
  },
  {
   "cell_type": "code",
   "execution_count": 12,
   "id": "2e77dfb8",
   "metadata": {},
   "outputs": [],
   "source": [
    "iteration = 100\n",
    "learning_rate = .000005\n",
    "theta = lin_reg_model (X_train, y_train, learning_rate= learning_rate,iteration=iteration)"
   ]
  },
  {
   "cell_type": "markdown",
   "id": "d1e7f5f4",
   "metadata": {},
   "source": [
    "### predict the number of bikes for a given temperature t"
   ]
  },
  {
   "cell_type": "code",
   "execution_count": 14,
   "id": "79e0feb4",
   "metadata": {},
   "outputs": [
    {
     "data": {
      "text/plain": [
       "array([195.22454873])"
      ]
     },
     "execution_count": 14,
     "metadata": {},
     "output_type": "execute_result"
    }
   ],
   "source": [
    "t = [29]\n",
    "prediction = predict_y(t,theta)\n",
    "prediction"
   ]
  }
 ],
 "metadata": {
  "kernelspec": {
   "display_name": "Python 3",
   "language": "python",
   "name": "python3"
  },
  "language_info": {
   "codemirror_mode": {
    "name": "ipython",
    "version": 3
   },
   "file_extension": ".py",
   "mimetype": "text/x-python",
   "name": "python",
   "nbconvert_exporter": "python",
   "pygments_lexer": "ipython3",
   "version": "3.10.14"
  }
 },
 "nbformat": 4,
 "nbformat_minor": 5
}
