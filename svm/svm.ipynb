{
 "cells": [
  {
   "cell_type": "code",
   "execution_count": 4,
   "metadata": {},
   "outputs": [],
   "source": [
    "import numpy as np"
   ]
  },
  {
   "cell_type": "code",
   "execution_count": 3,
   "metadata": {},
   "outputs": [],
   "source": [
    "class SVM:\n",
    "    def __init__(self, kernel='linear', learning_rate=0.001, lambda_reg=0.01, iteration=1000, gamma=0.1, degree=3):\n",
    "        self.learning_rate = learning_rate\n",
    "        self.lambda_reg = lambda_reg\n",
    "        self.iteration = iteration\n",
    "        self.gamma = gamma\n",
    "        self.degree = degree\n",
    "        self.kernel = kernel\n",
    "        self.alpha = None\n",
    "        self.b = None\n",
    "        \n",
    "\n",
    "    def _linear_kernel(self, x1, x2):\n",
    "        K = np.dot(x1, x2)\n",
    "        return K\n",
    "\n",
    "    def _polynomial_kernel(self, x1, x2):\n",
    "        K = (1 + np.dot(x1, x2)) ** self.degree\n",
    "        return K\n",
    "\n",
    "    def _rbf_kernel(self, x1, x2):\n",
    "        K = np.exp(-self.gamma * np.linalg.norm(x1 - x2) ** 2)\n",
    "        return K\n",
    "\n",
    "    def _compute_kernel(self, x1, x2):\n",
    "        if self.kernel == 'linear':\n",
    "            return self._linear_kernel(x1, x2)\n",
    "        elif self.kernel == 'polynomial':\n",
    "            return self._polynomial_kernel(x1, x2)\n",
    "        elif self.kernel == 'rbf':\n",
    "            return self._rbf_kernel(x1, x2)\n",
    "        else:\n",
    "            raise ValueError(\"Unknown kernel\")\n",
    "\n",
    "    def fit(self, X, y):\n",
    "        m, n = X.shape\n",
    "        y_label = np.where(y <= 0, -1, 1)\n",
    "        self.alpha = np.zeros(m)\n",
    "        self.b = 0\n",
    "\n",
    "        \n",
    "        for _ in range(self.iteration):\n",
    "            for i in range(m):\n",
    "                condition = y_label[i] * (np.sum(self.alpha * self.y * [self._compute_kernel(X[i], x) for x in X]) + self.b) >= 1\n",
    "                if condition:\n",
    "                    self.alpha[i] -= self.learning_rate * (2 * self.lambda_reg * self.alpha[i])\n",
    "                else:\n",
    "                    \n",
    "                    self.alpha[i] -= self.learning_rate * (2 * self.lambda_reg * self.alpha[i] - 1)\n",
    "                    self.b -= self.learning_rate * y_label[i]\n",
    "\n",
    "    def predict(self, X):\n",
    "        # Predict based on the kernel trick, i.e., computing the dot product in the high-dimensional space\n",
    "        predictions = []\n",
    "        for x in X:\n",
    "            decision = np.sum(self.alpha * self.y * [self._compute_kernel(x, x_train) for x_train in self.X]) + self.b\n",
    "            predictions.append(np.sign(decision))\n",
    "        return np.array(predictions)\n",
    "    \n",
    "    def accuracy (self,y_real,y_pred):\n",
    "        accuracy = (np.sum(y_real == y_pred) / len(y_real))*100\n",
    "        return ('accuracy is',accuracy,'%')\n",
    "\n"
   ]
  }
 ],
 "metadata": {
  "kernelspec": {
   "display_name": "Python 3",
   "language": "python",
   "name": "python3"
  },
  "language_info": {
   "codemirror_mode": {
    "name": "ipython",
    "version": 3
   },
   "file_extension": ".py",
   "mimetype": "text/x-python",
   "name": "python",
   "nbconvert_exporter": "python",
   "pygments_lexer": "ipython3",
   "version": "3.12.5"
  }
 },
 "nbformat": 4,
 "nbformat_minor": 2
}
