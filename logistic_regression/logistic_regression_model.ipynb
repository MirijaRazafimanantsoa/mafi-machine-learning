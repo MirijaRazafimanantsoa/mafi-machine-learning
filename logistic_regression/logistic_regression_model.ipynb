{
 "cells": [
  {
   "cell_type": "code",
   "execution_count": 1,
   "id": "99b6fd62-bcea-439a-8d83-bb26a314044d",
   "metadata": {},
   "outputs": [],
   "source": [
    "import numpy as np\n",
    "import pandas as pd\n",
    "import matplotlib.pyplot as plt"
   ]
  },
  {
   "cell_type": "markdown",
   "id": "d4b3c641",
   "metadata": {},
   "source": [
    "# Loading Dataset"
   ]
  },
  {
   "cell_type": "code",
   "execution_count": 12,
   "id": "21b40d4d",
   "metadata": {},
   "outputs": [
    {
     "data": {
      "text/html": [
       "<div>\n",
       "<style scoped>\n",
       "    .dataframe tbody tr th:only-of-type {\n",
       "        vertical-align: middle;\n",
       "    }\n",
       "\n",
       "    .dataframe tbody tr th {\n",
       "        vertical-align: top;\n",
       "    }\n",
       "\n",
       "    .dataframe thead th {\n",
       "        text-align: right;\n",
       "    }\n",
       "</style>\n",
       "<table border=\"1\" class=\"dataframe\">\n",
       "  <thead>\n",
       "    <tr style=\"text-align: right;\">\n",
       "      <th></th>\n",
       "      <th>Id</th>\n",
       "      <th>Survived</th>\n",
       "    </tr>\n",
       "  </thead>\n",
       "  <tbody>\n",
       "    <tr>\n",
       "      <th>0</th>\n",
       "      <td>0</td>\n",
       "      <td>0</td>\n",
       "    </tr>\n",
       "    <tr>\n",
       "      <th>1</th>\n",
       "      <td>1</td>\n",
       "      <td>1</td>\n",
       "    </tr>\n",
       "    <tr>\n",
       "      <th>2</th>\n",
       "      <td>2</td>\n",
       "      <td>1</td>\n",
       "    </tr>\n",
       "    <tr>\n",
       "      <th>3</th>\n",
       "      <td>3</td>\n",
       "      <td>1</td>\n",
       "    </tr>\n",
       "    <tr>\n",
       "      <th>4</th>\n",
       "      <td>4</td>\n",
       "      <td>0</td>\n",
       "    </tr>\n",
       "  </tbody>\n",
       "</table>\n",
       "</div>"
      ],
      "text/plain": [
       "   Id  Survived\n",
       "0   0         0\n",
       "1   1         1\n",
       "2   2         1\n",
       "3   3         1\n",
       "4   4         0"
      ]
     },
     "execution_count": 12,
     "metadata": {},
     "output_type": "execute_result"
    }
   ],
   "source": [
    "X_train = pd.read_csv(\"train_X.csv\")\n",
    "Y_train = pd.read_csv(\"train_Y.csv\")\n",
    "\n",
    "X_test = pd.read_csv(\"test_X.csv\")\n",
    "Y_test = pd.read_csv(\"test_Y.csv\")\n",
    "\n",
    "Y_train.head()"
   ]
  },
  {
   "cell_type": "code",
   "execution_count": 3,
   "id": "7159bb8a",
   "metadata": {},
   "outputs": [],
   "source": [
    "X_train = X_train.drop(\"Id\", axis = 1)\n",
    "Y_train = Y_train.drop(\"Id\", axis = 1)\n",
    "X_test = X_test.drop(\"Id\", axis = 1)\n",
    "Y_test = Y_test.drop(\"Id\", axis = 1)"
   ]
  },
  {
   "cell_type": "markdown",
   "id": "34d1ce59",
   "metadata": {},
   "source": [
    "### Transform into np array"
   ]
  },
  {
   "cell_type": "code",
   "execution_count": 4,
   "id": "764a9306",
   "metadata": {},
   "outputs": [],
   "source": [
    "X_train = X_train.values\n",
    "Y_train = Y_train.values\n",
    "X_test = X_test.values\n",
    "Y_test = Y_test.values"
   ]
  },
  {
   "cell_type": "markdown",
   "id": "4b2bd960",
   "metadata": {},
   "source": [
    "### Reshape dimensions\n",
    "reshaping y to be m*1 vector (m is the number of datapoints)"
   ]
  },
  {
   "cell_type": "code",
   "execution_count": 5,
   "id": "25a78d47",
   "metadata": {},
   "outputs": [],
   "source": [
    "Y_train = Y_train.reshape(-1,1)\n",
    "Y_test = Y_test.reshape(-1,1)"
   ]
  },
  {
   "cell_type": "markdown",
   "id": "d49123f9",
   "metadata": {},
   "source": [
    "## !!! REMEMBER TO ALWAYS CHECK THE SIZES OF THE DATASETS"
   ]
  },
  {
   "cell_type": "code",
   "execution_count": 6,
   "id": "8d36027a",
   "metadata": {},
   "outputs": [
    {
     "name": "stdout",
     "output_type": "stream",
     "text": [
      "Shape of X_train :  (891, 7)\n",
      "Shape of Y_train :  (891, 1)\n",
      "Shape of X_test :  (418, 7)\n",
      "Shape of Y_test :  (418, 1)\n"
     ]
    }
   ],
   "source": [
    "print(\"Shape of X_train : \", X_train.shape)\n",
    "print(\"Shape of Y_train : \", Y_train.shape)\n",
    "print(\"Shape of X_test : \", X_test.shape)\n",
    "print(\"Shape of Y_test : \", Y_test.shape)"
   ]
  },
  {
   "cell_type": "markdown",
   "id": "ed8e8412",
   "metadata": {},
   "source": [
    "# Logistic regression Model"
   ]
  },
  {
   "cell_type": "markdown",
   "id": "becda731",
   "metadata": {},
   "source": [
    "### Sigmoid function"
   ]
  },
  {
   "cell_type": "code",
   "execution_count": 7,
   "id": "83f3f0ec",
   "metadata": {},
   "outputs": [],
   "source": [
    "def sigmoid (x):\n",
    "    return 1/(1+np.exp(-x))"
   ]
  },
  {
   "cell_type": "markdown",
   "id": "ff80616a",
   "metadata": {},
   "source": [
    "### Model :"
   ]
  },
  {
   "cell_type": "code",
   "execution_count": 10,
   "id": "126d5604",
   "metadata": {},
   "outputs": [],
   "source": [
    "def logistic_regression_model(X, y, learning_rate, iterations):\n",
    "    \"\"\"\n",
    "    \n",
    "    Logistic regression model using gradient descent.\n",
    "    \n",
    "    Parameters:\n",
    "    X : numpy array, feature matrix (m x n)\n",
    "    y : numpy array, target vector (m,)\n",
    "    learning_rate : float, step size for gradient descent\n",
    "    iterations : int, number of iterations for gradient descent\n",
    "    \n",
    "    Returns:\n",
    "    W : numpy array, optimized weight vector\n",
    "    B : float, optimized bias\n",
    "    cost_list : list of costs at each iteration\n",
    "\n",
    "    \"\"\"\n",
    "    m = y.size\n",
    "\n",
    "    \n",
    "    W = np.zeros((X.shape[1],1))\n",
    "    B = 0\n",
    "    \n",
    "    cost_list = []\n",
    "    y = y.reshape(-1,1)\n",
    "    epsilon = 1e-10 #to avoid errors in log (division by zero)\n",
    "    \n",
    "    for i in range(iterations):\n",
    "        \n",
    "        Z = np.dot(X,W) + B\n",
    "        A = sigmoid(Z)\n",
    "        \n",
    "        # cost function\n",
    "        cost = -(1/m)*np.sum( y*np.log(A + epsilon) + (1-y)*np.log(1-A + epsilon))\n",
    "        \n",
    "        # Gradient Descent\n",
    "        dW = (1/m)*np.dot(X.T , A -y)\n",
    "        dB = (1/m)*np.sum(A - y)\n",
    "        \n",
    "        W = W - learning_rate*dW\n",
    "        B = B - learning_rate*dB\n",
    "        \n",
    "        # Keeping track of cost value (should be decreasing)\n",
    "        cost_list.append(cost)\n",
    "        \n",
    "    plt.plot(np.arange(iterations),cost_list)\n",
    "    plt.xlabel('iterations')\n",
    "    plt.ylabel('cost value')\n",
    "    plt.title('COST FUNCTION OVER ITERATIONS')\n",
    "    plt.show()\n",
    "\n",
    "        \n",
    "    return W, B, cost_list\n",
    "        "
   ]
  },
  {
   "cell_type": "code",
   "execution_count": 11,
   "id": "f656ce82",
   "metadata": {},
   "outputs": [
    {
     "data": {
      "image/png": "[encoded data removed]",
      "text/plain": [
       "<Figure size 640x480 with 1 Axes>"
      ]
     },
     "metadata": {},
     "output_type": "display_data"
    }
   ],
   "source": [
    "iterations = 100000\n",
    "learning_rate = 0.0015\n",
    "# Note that the choices of iteration and learning rate are important !\n",
    "W, B, cost_list = logistic_regression_model(X_train, Y_train, learning_rate = learning_rate, iterations = iterations)"
   ]
  },
  {
   "cell_type": "markdown",
   "id": "1318acef",
   "metadata": {},
   "source": [
    "## Testing accuracy"
   ]
  },
  {
   "cell_type": "code",
   "execution_count": 12,
   "id": "59f82201",
   "metadata": {},
   "outputs": [],
   "source": [
    "def accuracy (X,Y,W,B):\n",
    "    Z = np.dot(X,W) + B\n",
    "    A = sigmoid(Z)\n",
    "    \n",
    "    A = A > 0.5 # A becomes a np array of booleans\n",
    "\n",
    "    A= np.array(A , dtype='int') # 1 if >0.5 , else 0 (A becomes a np array of 0 and 1)\n",
    "\n",
    "    acc = (1 - np.sum(np.absolute(A - Y))/Y.shape[0])*100   # *100 to make it in percentage\n",
    "    return acc"
   ]
  },
  {
   "cell_type": "code",
   "execution_count": 13,
   "id": "3636f32a",
   "metadata": {},
   "outputs": [
    {
     "data": {
      "text/plain": [
       "np.float64(91.38755980861244)"
      ]
     },
     "execution_count": 13,
     "metadata": {},
     "output_type": "execute_result"
    }
   ],
   "source": [
    "accuracy (X_test,Y_test,W,B)"
   ]
  }
 ],
 "metadata": {
  "kernelspec": {
   "display_name": "Python 3",
   "language": "python",
   "name": "python3"
  },
  "language_info": {
   "codemirror_mode": {
    "name": "ipython",
    "version": 3
   },
   "file_extension": ".py",
   "mimetype": "text/x-python",
   "name": "python",
   "nbconvert_exporter": "python",
   "pygments_lexer": "ipython3",
   "version": "3.12.5"
  }
 },
 "nbformat": 4,
 "nbformat_minor": 5
}
